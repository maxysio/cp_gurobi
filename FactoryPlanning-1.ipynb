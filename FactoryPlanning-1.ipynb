{
 "cells": [
  {
   "cell_type": "markdown",
   "metadata": {},
   "source": [
    "# Factory Planning Example"
   ]
  },
  {
   "cell_type": "markdown",
   "metadata": {},
   "source": [
    "## Objective and Prerequisites"
   ]
  },
  {
   "cell_type": "markdown",
   "metadata": {},
   "source": [
    "This program is based on the example found on github here: https://github.com/Gurobi/modeling-examples/blob/master/hp_williams/factory_planning_2.ipynb\n",
    "\n",
    "This model is an example of a production planning problem"
   ]
  },
  {
   "cell_type": "markdown",
   "metadata": {},
   "source": [
    "### Problem Description"
   ]
  },
  {
   "cell_type": "markdown",
   "metadata": {},
   "source": [
    "#### Products"
   ]
  },
  {
   "cell_type": "markdown",
   "metadata": {},
   "source": [
    "- The Factory makes 3 products: Prod1, Prod2 and Prod3"
   ]
  },
  {
   "cell_type": "markdown",
   "metadata": {},
   "source": [
    "#### Machines"
   ]
  },
  {
   "cell_type": "markdown",
   "metadata": {},
   "source": [
    "It uses the following machines:\n",
    "    - Grinders - Quantity = 4\n",
    "    - Drills - Quantity = 2\n",
    "    - Borer - Quantity = 1"
   ]
  },
  {
   "cell_type": "markdown",
   "metadata": {},
   "source": [
    "#### Profit Contribution and Manufacturing Time"
   ]
  },
  {
   "cell_type": "markdown",
   "metadata": {},
   "source": [
    "- Each product has a defined profit contribution per unit sold = Sales Price minus Cost of Raw Mat.\n",
    "- Each product requires a certain amount of time on each machine in hours"
   ]
  },
  {
   "cell_type": "markdown",
   "metadata": {},
   "source": [
    "|  | Prod1 | Prod2 | Prod3 |\n",
    "| --- | --- | --- | --- |\n",
    "| PROFIT | 10 | 6 | 8 |\n",
    "| Grinders | 0.5 | 0.7 | - |\n",
    "| Drills | 0.1 | 0.2 | 0.3 |\n",
    "| Borer | 0.05 | - | 0.03 |"
   ]
  },
  {
   "cell_type": "markdown",
   "metadata": {},
   "source": [
    "#### Maintenance Schedule"
   ]
  },
  {
   "cell_type": "markdown",
   "metadata": {},
   "source": [
    "- Each machine must be down for maintenance in 1 month out of 6 months"
   ]
  },
  {
   "cell_type": "markdown",
   "metadata": {},
   "source": [
    "#### Sale Limitation/Demand Forecast"
   ]
  },
  {
   "cell_type": "markdown",
   "metadata": {},
   "source": [
    "Limitation of the number of products that can be sold in a given month - this could be descibed as the forecast planning shown below"
   ]
  },
  {
   "cell_type": "markdown",
   "metadata": {},
   "source": [
    "| Month | Prod1 | Prod2 | Prod3 |\n",
    "| --- | --- | --- | --- |\n",
    "| Jan | 500 | 1000 | 300 |\n",
    "| Feb | 600 | 500 | 200 |\n",
    "| Mar | 300 | 600 | 0 |\n",
    "| Apr | 200 | 300 | 400 |\n",
    "| May | 0 | 100 | 500 |\n",
    "| Jun | 500 | 500 | 100 |"
   ]
  },
  {
   "cell_type": "markdown",
   "metadata": {},
   "source": [
    "#### Inventory"
   ]
  },
  {
   "cell_type": "markdown",
   "metadata": {},
   "source": [
    "- Upto 100 units of each product may be stored in inventory at a cost of $0.50 per unit per month.\n",
    "- At the start of January, there is no product inventory\n",
    "- By end of June, there should be 50 units of each product in Inventory"
   ]
  },
  {
   "cell_type": "markdown",
   "metadata": {},
   "source": [
    "#### Factory Schedule"
   ]
  },
  {
   "cell_type": "markdown",
   "metadata": {},
   "source": [
    "- Production is scheduled at 6 days a week with 3 eight hour shifts per day.\n",
    "- Each month has 24 working days"
   ]
  },
  {
   "cell_type": "markdown",
   "metadata": {},
   "source": [
    "### Output Required"
   ]
  },
  {
   "cell_type": "markdown",
   "metadata": {},
   "source": [
    "- What is the maximum profit that can be achieved?\n",
    "- What should the Production plan be?\n",
    "- What should the tool maintenance schedule be?"
   ]
  },
  {
   "cell_type": "markdown",
   "metadata": {},
   "source": [
    "## Modelling"
   ]
  },
  {
   "cell_type": "markdown",
   "metadata": {},
   "source": [
    "### Sets and Indices"
   ]
  },
  {
   "cell_type": "markdown",
   "metadata": {},
   "source": [
    "t ∊ Months = {Jan, Feb, Mar, Apr, May, Jun}"
   ]
  },
  {
   "cell_type": "markdown",
   "metadata": {},
   "source": [
    "p ∊ Products = {Prod1, Prod2, Prod3}"
   ]
  },
  {
   "cell_type": "markdown",
   "metadata": {},
   "source": [
    "m ∊ Machines = {Grinders, Drills, Borer}"
   ]
  },
  {
   "cell_type": "markdown",
   "metadata": {},
   "source": [
    "### Parameters"
   ]
  },
  {
   "cell_type": "markdown",
   "metadata": {},
   "source": [
    "hours_per_month -> Tme (in hours/month) available at any machine on a monthly basis = Number of working days in a month (24) * number of shifts (3) * duration of a shift (8)"
   ]
  },
  {
   "cell_type": "markdown",
   "metadata": {},
   "source": [
    "max_inventory -> Maximum number of units of a single product type that can be stored in inventory at any given month"
   ]
  },
  {
   "cell_type": "markdown",
   "metadata": {},
   "source": [
    "holding_cost -> monthly cost in (USD/unit/month) of keeping in inventory a unit of any product type"
   ]
  },
  {
   "cell_type": "markdown",
   "metadata": {},
   "source": [
    "store_target -> Number of units of each product type to keep in inventory at the end of a planning phase"
   ]
  },
  {
   "cell_type": "markdown",
   "metadata": {},
   "source": [
    "profit(p) -> Proft (in USD/unit) of product p"
   ]
  },
  {
   "cell_type": "markdown",
   "metadata": {},
   "source": [
    "installed(m) -> Number of machines of type m installed in the factory"
   ]
  },
  {
   "cell_type": "markdown",
   "metadata": {},
   "source": [
    "down_req(m) -> Number of machines of type m that should be shceduled for maintenance at some point in the planning phase"
   ]
  },
  {
   "cell_type": "markdown",
   "metadata": {},
   "source": [
    "time_req (m,p) -> Time (in hours/unit) needed on machine m to manufacture one unit of product p"
   ]
  },
  {
   "cell_type": "markdown",
   "metadata": {},
   "source": [
    "max_sales(t,p) -> Number of units of product p that can be sold in month t"
   ]
  },
  {
   "cell_type": "markdown",
   "metadata": {},
   "source": [
    "### Decision Variables"
   ]
  },
  {
   "cell_type": "markdown",
   "metadata": {},
   "source": [
    "make(t,p) -> Number of units of product p to manufacture in month t"
   ]
  },
  {
   "cell_type": "markdown",
   "metadata": {},
   "source": [
    "store(t,p)[0, max_inventory] -> Number of units of product p to store in month t"
   ]
  },
  {
   "cell_type": "markdown",
   "metadata": {},
   "source": [
    "sell(t,p)[0, max_sales(t,p)] -> Number of units of product p to sell in month t"
   ]
  },
  {
   "cell_type": "markdown",
   "metadata": {},
   "source": [
    "repair(t,m) {0,1,...., down_req(m)} -> Number of machines of type m scheduled for maintenance in month t"
   ]
  },
  {
   "cell_type": "markdown",
   "metadata": {},
   "source": [
    "### Assumption - We can produce fractional units"
   ]
  },
  {
   "cell_type": "markdown",
   "metadata": {},
   "source": [
    "### Objective Function - Profit. Maximize total profit during planning phase"
   ]
  },
  {
   "cell_type": "markdown",
   "metadata": {},
   "source": [
    "### Constraints"
   ]
  },
  {
   "cell_type": "markdown",
   "metadata": {},
   "source": [
    "- __Initial Balance:__ For each product p, the number of units produced should be equal to the number of units sold plus the number of units stored. Here since Jan is used since it is the first month\n",
    "\n",
    "        make(Jan,p) = sell(t,p) + store(Jan,p)"
   ]
  },
  {
   "cell_type": "markdown",
   "metadata": {},
   "source": [
    "- __Balance:__ For each product p, the number of units produced in a month t and previously stored should be equal to the number of units sold and stored in that month\n",
    "    \n",
    "        store(t-1, p) + make(t,p) = sell(t,p) + store(t,p)"
   ]
  },
  {
   "cell_type": "markdown",
   "metadata": {},
   "source": [
    "- __Machine Capacity:__ Total time to used to manufacture any product at machine type m cannot exceed its monthly capacity in hours\n",
    "\n",
    "    ∑p time_req(m,p) * make(t,p) <= \n",
    "        hours_per_month * (installed(m) - repair(t,m))"
   ]
  },
  {
   "cell_type": "markdown",
   "metadata": {},
   "source": [
    "- __Maintenance:__ The number of machines of type m schedule for maintenance should meet the requirement\n",
    "    \n",
    "    ∑t repair(t,m) = down_req(m)"
   ]
  },
  {
   "cell_type": "markdown",
   "metadata": {},
   "source": [
    "### Implementation"
   ]
  },
  {
   "cell_type": "code",
   "execution_count": 1,
   "metadata": {},
   "outputs": [],
   "source": [
    "import numpy as np\n",
    "import pandas as pd\n",
    "\n",
    "import gurobipy as gp\n",
    "from gurobipy import GRB"
   ]
  },
  {
   "cell_type": "code",
   "execution_count": 2,
   "metadata": {},
   "outputs": [],
   "source": [
    "# Sets\n",
    "products = ['Prod1', 'Prod2', 'Prod3']\n",
    "machines = ['Grinders', 'Drills', 'Borers']\n",
    "months = ['Jan', 'Feb', 'Mar', 'Apr', 'May', 'Jun']"
   ]
  },
  {
   "cell_type": "code",
   "execution_count": 3,
   "metadata": {},
   "outputs": [],
   "source": [
    "profit = {'Prod1':10, 'Prod2':6, 'Prod3':8}"
   ]
  },
  {
   "cell_type": "code",
   "execution_count": 4,
   "metadata": {},
   "outputs": [],
   "source": [
    "time_req = {\n",
    "    'Grinders': {'Prod1': 0.5, 'Prod2': 0.7},\n",
    "    'Drills': {'Prod1': 0.1, 'Prod2': 0.2, 'Prod3': 0.3},\n",
    "    'Borers': {'Prod1': 0.05, 'Prod3': 0.03}\n",
    "}"
   ]
  },
  {
   "cell_type": "code",
   "execution_count": 5,
   "metadata": {},
   "outputs": [],
   "source": [
    "# Number of each machine available\n",
    "installed = {'Grinders': 4, 'Drills': 2, 'Borers': 1}"
   ]
  },
  {
   "cell_type": "code",
   "execution_count": 6,
   "metadata": {},
   "outputs": [],
   "source": [
    "# All machines need to be down at least one month \n",
    "# during this 6 month phase\n",
    "down_req = {'Grinders': 4, 'Drills': 2, 'Borers': 1}"
   ]
  },
  {
   "cell_type": "code",
   "execution_count": 7,
   "metadata": {},
   "outputs": [],
   "source": [
    "# Sales Forecast/Requirement\n",
    "max_sales = {\n",
    "    ('Jan', 'Prod1'): 500,\n",
    "    ('Jan', 'Prod2'): 1000,\n",
    "    ('Jan', 'Prod3'): 300,\n",
    "    ('Feb', 'Prod1'): 600,\n",
    "    ('Feb', 'Prod2'): 500,\n",
    "    ('Feb', 'Prod3'): 200,\n",
    "    ('Mar', 'Prod1'): 300,\n",
    "    ('Mar', 'Prod2'): 600,\n",
    "    ('Mar', 'Prod3'): 0,\n",
    "    ('Apr', 'Prod1'): 200,\n",
    "    ('Apr', 'Prod2'): 300,\n",
    "    ('Apr', 'Prod3'): 400,\n",
    "    ('May', 'Prod1'): 0,\n",
    "    ('May', 'Prod2'): 100,\n",
    "    ('May', 'Prod3'): 500,\n",
    "    ('Jun', 'Prod1'): 500,\n",
    "    ('Jun', 'Prod2'): 500,\n",
    "    ('Jun', 'Prod3'): 100,\n",
    "}"
   ]
  },
  {
   "cell_type": "code",
   "execution_count": 8,
   "metadata": {},
   "outputs": [],
   "source": [
    "holding_cost = 0.5\n",
    "max_inventory = 100\n",
    "store_target = 50\n",
    "hours_per_month = 3*8*24"
   ]
  },
  {
   "cell_type": "markdown",
   "metadata": {},
   "source": [
    "### Model Deployment"
   ]
  },
  {
   "cell_type": "markdown",
   "metadata": {},
   "source": [
    "- For each product and each time period, variables are created for the amount of which product will be __Manufactured, Held and Sold__\n",
    "- In each month, there is an upper limit on the number of units of each product can be sold.\n",
    "- For each type of machine and each month, variable d defines how many machines are down during the month of this type"
   ]
  },
  {
   "cell_type": "code",
   "execution_count": 9,
   "metadata": {},
   "outputs": [
    {
     "name": "stdout",
     "output_type": "stream",
     "text": [
      "Using license file /Users/mayukh/gurobi.lic\n",
      "Academic license - for non-commercial use only\n"
     ]
    }
   ],
   "source": [
    "# Create the Model\n",
    "factory = gp.Model('Factory Planning')\n",
    "\n",
    "# Add the Variables\n",
    "\n",
    "# Qty manufactured\n",
    "make = factory.addVars(months, products, name='Make')\n",
    "\n",
    "# Quantity stored\n",
    "store = factory.addVars(months, products, ub=max_inventory, name='Store')\n",
    "\n",
    "# Quantity Sold\n",
    "sell = factory.addVars(months, products, ub=max_sales, name='Sell')\n",
    "\n",
    "# Number of Machines Down\n",
    "repair = factory.addVars(months, machines, vtype=GRB.INTEGER, \n",
    "                        ub=down_req, name='Repair')\n"
   ]
  },
  {
   "cell_type": "code",
   "execution_count": 10,
   "metadata": {},
   "outputs": [],
   "source": [
    "# Add the Constraints\n",
    "\n",
    "# Initial Balance\n",
    "initial_balance = factory.addConstrs((\n",
    "    make[months[0], product] == \n",
    "    sell[months[0], product] + store[months[0], product] \n",
    "    for product in products), name='Initial_Balance')"
   ]
  },
  {
   "cell_type": "code",
   "execution_count": 12,
   "metadata": {},
   "outputs": [],
   "source": [
    "# Balance\n",
    "balance = factory.addConstrs((\n",
    "    store[months[months.index(month)-1], product] + make[month, product] ==\n",
    "    sell[month, product] + store[month, product]\n",
    "    for product in products for month in months\n",
    "    if month != months[0]), name='Balance')"
   ]
  },
  {
   "cell_type": "markdown",
   "metadata": {},
   "source": [
    "The following constraint enforces that at the end of the last month the storage contains the specified amount of each product"
   ]
  },
  {
   "cell_type": "code",
   "execution_count": 14,
   "metadata": {},
   "outputs": [],
   "source": [
    "target_inventory = factory.addConstrs((\n",
    "    store[months[-1], product] == store_target\n",
    "    for product in products), name='End_Balance')"
   ]
  },
  {
   "cell_type": "code",
   "execution_count": 16,
   "metadata": {},
   "outputs": [],
   "source": [
    "# Machine Capacity\n",
    "machine_cap = factory.addConstrs((\n",
    "    gp.quicksum(time_req[machine][product] * make[month, product]\n",
    "               for product in time_req[machine])\n",
    "    <= hours_per_month * (installed[machine] - repair[month, machine])\n",
    "    for machine in machines for month in months\n",
    "    ), name='Capacity')"
   ]
  },
  {
   "cell_type": "code",
   "execution_count": 17,
   "metadata": {},
   "outputs": [],
   "source": [
    "# maintenance\n",
    "# Add the repair variable as part of the optimization\n",
    "maint = factory.addConstrs((repair.sum('*', machine) == \n",
    "                           down_req[machine] for machine in machines),\n",
    "                          'Maintenance')"
   ]
  },
  {
   "cell_type": "code",
   "execution_count": 19,
   "metadata": {},
   "outputs": [],
   "source": [
    "# Define the objective\n",
    "obj = gp.quicksum(profit[product] * sell[month, product] - \n",
    "                 holding_cost * store[month, product]\n",
    "                 for month in months for product in products)\n",
    "\n",
    "factory.setObjective(obj, GRB.MAXIMIZE)"
   ]
  },
  {
   "cell_type": "code",
   "execution_count": 20,
   "metadata": {
    "scrolled": true
   },
   "outputs": [
    {
     "name": "stdout",
     "output_type": "stream",
     "text": [
      "Gurobi Optimizer version 9.0.1 build v9.0.1rc0 (mac64)\n",
      "Optimize a model with 42 rows, 72 columns and 150 nonzeros\n",
      "Model fingerprint: 0x5d70719c\n",
      "Variable types: 54 continuous, 18 integer (0 binary)\n",
      "Coefficient statistics:\n",
      "  Matrix range     [3e-02, 6e+02]\n",
      "  Objective range  [5e-01, 1e+01]\n",
      "  Bounds range     [1e+02, 1e+03]\n",
      "  RHS range        [1e+00, 2e+03]\n",
      "Found heuristic solution: objective -75.0000000\n",
      "Presolve removed 6 rows and 8 columns\n",
      "Presolve time: 0.00s\n",
      "Presolved: 36 rows, 64 columns, 140 nonzeros\n",
      "Variable types: 46 continuous, 18 integer (6 binary)\n",
      "\n",
      "Root relaxation: objective 5.092500e+04, 7 iterations, 0.00 seconds\n",
      "\n",
      "    Nodes    |    Current Node    |     Objective Bounds      |     Work\n",
      " Expl Unexpl |  Obj  Depth IntInf | Incumbent    BestBd   Gap | It/Node Time\n",
      "\n",
      "     0     0 50925.0000    0    6  -75.00000 50925.0000      -     -    0s\n",
      "H    0     0                    43525.000000 50925.0000  17.0%     -    0s\n",
      "H    0     0                    45925.000000 50925.0000  10.9%     -    0s\n",
      "H    0     0                    48811.000000 50925.0000  4.33%     -    0s\n",
      "*    0     0               0    48875.000000 48875.0000  0.00%     -    0s\n",
      "\n",
      "Cutting planes:\n",
      "  Gomory: 1\n",
      "  MIR: 1\n",
      "  Relax-and-lift: 3\n",
      "\n",
      "Explored 1 nodes (11 simplex iterations) in 0.08 seconds\n",
      "Thread count was 4 (of 4 available processors)\n",
      "\n",
      "Solution count 5: 48875 48811 45925 ... -75\n",
      "\n",
      "Optimal solution found (tolerance 1.00e-04)\n",
      "Best objective 4.887500000000e+04, best bound 4.887500000000e+04, gap 0.0000%\n"
     ]
    }
   ],
   "source": [
    "factory.optimize()"
   ]
  },
  {
   "cell_type": "markdown",
   "metadata": {},
   "source": [
    "### Production Plan - The number of each product to be made per month"
   ]
  },
  {
   "cell_type": "code",
   "execution_count": 24,
   "metadata": {},
   "outputs": [],
   "source": [
    "rows = months.copy()\n",
    "columns = products.copy()\n",
    "make_plan = pd.DataFrame(columns=columns, index=rows, data=0.0)"
   ]
  },
  {
   "cell_type": "code",
   "execution_count": 27,
   "metadata": {},
   "outputs": [],
   "source": [
    "for month, product in make.keys():\n",
    "    if(abs(make[month, product].x) > 1e-6):\n",
    "        make_plan.loc[month, product] = np.round(make[month, product].x, 1)"
   ]
  },
  {
   "cell_type": "code",
   "execution_count": 28,
   "metadata": {},
   "outputs": [
    {
     "data": {
      "text/html": [
       "<div>\n",
       "<style scoped>\n",
       "    .dataframe tbody tr th:only-of-type {\n",
       "        vertical-align: middle;\n",
       "    }\n",
       "\n",
       "    .dataframe tbody tr th {\n",
       "        vertical-align: top;\n",
       "    }\n",
       "\n",
       "    .dataframe thead th {\n",
       "        text-align: right;\n",
       "    }\n",
       "</style>\n",
       "<table border=\"1\" class=\"dataframe\">\n",
       "  <thead>\n",
       "    <tr style=\"text-align: right;\">\n",
       "      <th></th>\n",
       "      <th>Prod1</th>\n",
       "      <th>Prod2</th>\n",
       "      <th>Prod3</th>\n",
       "    </tr>\n",
       "  </thead>\n",
       "  <tbody>\n",
       "    <tr>\n",
       "      <th>Jan</th>\n",
       "      <td>500.0</td>\n",
       "      <td>1000.0</td>\n",
       "      <td>300.0</td>\n",
       "    </tr>\n",
       "    <tr>\n",
       "      <th>Feb</th>\n",
       "      <td>700.0</td>\n",
       "      <td>500.0</td>\n",
       "      <td>200.0</td>\n",
       "    </tr>\n",
       "    <tr>\n",
       "      <th>Mar</th>\n",
       "      <td>0.0</td>\n",
       "      <td>600.0</td>\n",
       "      <td>0.0</td>\n",
       "    </tr>\n",
       "    <tr>\n",
       "      <th>Apr</th>\n",
       "      <td>200.0</td>\n",
       "      <td>300.0</td>\n",
       "      <td>400.0</td>\n",
       "    </tr>\n",
       "    <tr>\n",
       "      <th>May</th>\n",
       "      <td>0.0</td>\n",
       "      <td>100.0</td>\n",
       "      <td>500.0</td>\n",
       "    </tr>\n",
       "    <tr>\n",
       "      <th>Jun</th>\n",
       "      <td>550.0</td>\n",
       "      <td>550.0</td>\n",
       "      <td>150.0</td>\n",
       "    </tr>\n",
       "  </tbody>\n",
       "</table>\n",
       "</div>"
      ],
      "text/plain": [
       "     Prod1   Prod2  Prod3\n",
       "Jan  500.0  1000.0  300.0\n",
       "Feb  700.0   500.0  200.0\n",
       "Mar    0.0   600.0    0.0\n",
       "Apr  200.0   300.0  400.0\n",
       "May    0.0   100.0  500.0\n",
       "Jun  550.0   550.0  150.0"
      ]
     },
     "execution_count": 28,
     "metadata": {},
     "output_type": "execute_result"
    }
   ],
   "source": [
    "make_plan"
   ]
  },
  {
   "cell_type": "markdown",
   "metadata": {},
   "source": [
    "### Sales Plan"
   ]
  },
  {
   "cell_type": "code",
   "execution_count": 29,
   "metadata": {},
   "outputs": [],
   "source": [
    "rows = months.copy()\n",
    "columns = products.copy()\n",
    "sell_plan = pd.DataFrame(columns=columns, index=rows, data=0.0)"
   ]
  },
  {
   "cell_type": "code",
   "execution_count": 30,
   "metadata": {},
   "outputs": [
    {
     "data": {
      "text/html": [
       "<div>\n",
       "<style scoped>\n",
       "    .dataframe tbody tr th:only-of-type {\n",
       "        vertical-align: middle;\n",
       "    }\n",
       "\n",
       "    .dataframe tbody tr th {\n",
       "        vertical-align: top;\n",
       "    }\n",
       "\n",
       "    .dataframe thead th {\n",
       "        text-align: right;\n",
       "    }\n",
       "</style>\n",
       "<table border=\"1\" class=\"dataframe\">\n",
       "  <thead>\n",
       "    <tr style=\"text-align: right;\">\n",
       "      <th></th>\n",
       "      <th>Prod1</th>\n",
       "      <th>Prod2</th>\n",
       "      <th>Prod3</th>\n",
       "    </tr>\n",
       "  </thead>\n",
       "  <tbody>\n",
       "    <tr>\n",
       "      <th>Jan</th>\n",
       "      <td>500.0</td>\n",
       "      <td>1000.0</td>\n",
       "      <td>300.0</td>\n",
       "    </tr>\n",
       "    <tr>\n",
       "      <th>Feb</th>\n",
       "      <td>600.0</td>\n",
       "      <td>500.0</td>\n",
       "      <td>200.0</td>\n",
       "    </tr>\n",
       "    <tr>\n",
       "      <th>Mar</th>\n",
       "      <td>100.0</td>\n",
       "      <td>600.0</td>\n",
       "      <td>0.0</td>\n",
       "    </tr>\n",
       "    <tr>\n",
       "      <th>Apr</th>\n",
       "      <td>200.0</td>\n",
       "      <td>300.0</td>\n",
       "      <td>400.0</td>\n",
       "    </tr>\n",
       "    <tr>\n",
       "      <th>May</th>\n",
       "      <td>0.0</td>\n",
       "      <td>100.0</td>\n",
       "      <td>500.0</td>\n",
       "    </tr>\n",
       "    <tr>\n",
       "      <th>Jun</th>\n",
       "      <td>500.0</td>\n",
       "      <td>500.0</td>\n",
       "      <td>100.0</td>\n",
       "    </tr>\n",
       "  </tbody>\n",
       "</table>\n",
       "</div>"
      ],
      "text/plain": [
       "     Prod1   Prod2  Prod3\n",
       "Jan  500.0  1000.0  300.0\n",
       "Feb  600.0   500.0  200.0\n",
       "Mar  100.0   600.0    0.0\n",
       "Apr  200.0   300.0  400.0\n",
       "May    0.0   100.0  500.0\n",
       "Jun  500.0   500.0  100.0"
      ]
     },
     "execution_count": 30,
     "metadata": {},
     "output_type": "execute_result"
    }
   ],
   "source": [
    "for month, product in sell.keys():\n",
    "    if (abs(sell[month, product].x) > 1e-6):\n",
    "        sell_plan.loc[month, product] = np.round(sell[month, product].x, 1)\n",
    "sell_plan"
   ]
  },
  {
   "cell_type": "markdown",
   "metadata": {},
   "source": [
    "### Inventory Plan"
   ]
  },
  {
   "cell_type": "code",
   "execution_count": 31,
   "metadata": {},
   "outputs": [
    {
     "data": {
      "text/html": [
       "<div>\n",
       "<style scoped>\n",
       "    .dataframe tbody tr th:only-of-type {\n",
       "        vertical-align: middle;\n",
       "    }\n",
       "\n",
       "    .dataframe tbody tr th {\n",
       "        vertical-align: top;\n",
       "    }\n",
       "\n",
       "    .dataframe thead th {\n",
       "        text-align: right;\n",
       "    }\n",
       "</style>\n",
       "<table border=\"1\" class=\"dataframe\">\n",
       "  <thead>\n",
       "    <tr style=\"text-align: right;\">\n",
       "      <th></th>\n",
       "      <th>Prod1</th>\n",
       "      <th>Prod2</th>\n",
       "      <th>Prod3</th>\n",
       "    </tr>\n",
       "  </thead>\n",
       "  <tbody>\n",
       "    <tr>\n",
       "      <th>Jan</th>\n",
       "      <td>0.0</td>\n",
       "      <td>0.0</td>\n",
       "      <td>0.0</td>\n",
       "    </tr>\n",
       "    <tr>\n",
       "      <th>Feb</th>\n",
       "      <td>100.0</td>\n",
       "      <td>0.0</td>\n",
       "      <td>0.0</td>\n",
       "    </tr>\n",
       "    <tr>\n",
       "      <th>Mar</th>\n",
       "      <td>0.0</td>\n",
       "      <td>0.0</td>\n",
       "      <td>0.0</td>\n",
       "    </tr>\n",
       "    <tr>\n",
       "      <th>Apr</th>\n",
       "      <td>0.0</td>\n",
       "      <td>0.0</td>\n",
       "      <td>0.0</td>\n",
       "    </tr>\n",
       "    <tr>\n",
       "      <th>May</th>\n",
       "      <td>0.0</td>\n",
       "      <td>0.0</td>\n",
       "      <td>0.0</td>\n",
       "    </tr>\n",
       "    <tr>\n",
       "      <th>Jun</th>\n",
       "      <td>50.0</td>\n",
       "      <td>50.0</td>\n",
       "      <td>50.0</td>\n",
       "    </tr>\n",
       "  </tbody>\n",
       "</table>\n",
       "</div>"
      ],
      "text/plain": [
       "     Prod1  Prod2  Prod3\n",
       "Jan    0.0    0.0    0.0\n",
       "Feb  100.0    0.0    0.0\n",
       "Mar    0.0    0.0    0.0\n",
       "Apr    0.0    0.0    0.0\n",
       "May    0.0    0.0    0.0\n",
       "Jun   50.0   50.0   50.0"
      ]
     },
     "execution_count": 31,
     "metadata": {},
     "output_type": "execute_result"
    }
   ],
   "source": [
    "rows = months.copy()\n",
    "columns = products.copy()\n",
    "store_plan = pd.DataFrame(columns=columns, index=rows, data=0.0)\n",
    "\n",
    "for month, product in store.keys():\n",
    "    if (abs(store[month, product].x) > 1e-6):\n",
    "        store_plan.loc[month, product] = np.round(store[month, product].x, 1)\n",
    "store_plan"
   ]
  },
  {
   "cell_type": "markdown",
   "metadata": {},
   "source": [
    "### Maintenance Plan"
   ]
  },
  {
   "cell_type": "code",
   "execution_count": 32,
   "metadata": {},
   "outputs": [
    {
     "data": {
      "text/html": [
       "<div>\n",
       "<style scoped>\n",
       "    .dataframe tbody tr th:only-of-type {\n",
       "        vertical-align: middle;\n",
       "    }\n",
       "\n",
       "    .dataframe tbody tr th {\n",
       "        vertical-align: top;\n",
       "    }\n",
       "\n",
       "    .dataframe thead th {\n",
       "        text-align: right;\n",
       "    }\n",
       "</style>\n",
       "<table border=\"1\" class=\"dataframe\">\n",
       "  <thead>\n",
       "    <tr style=\"text-align: right;\">\n",
       "      <th></th>\n",
       "      <th>Grinders</th>\n",
       "      <th>Drills</th>\n",
       "      <th>Borers</th>\n",
       "    </tr>\n",
       "  </thead>\n",
       "  <tbody>\n",
       "    <tr>\n",
       "      <th>Jan</th>\n",
       "      <td>0.0</td>\n",
       "      <td>0.0</td>\n",
       "      <td>0.0</td>\n",
       "    </tr>\n",
       "    <tr>\n",
       "      <th>Feb</th>\n",
       "      <td>0.0</td>\n",
       "      <td>0.0</td>\n",
       "      <td>0.0</td>\n",
       "    </tr>\n",
       "    <tr>\n",
       "      <th>Mar</th>\n",
       "      <td>0.0</td>\n",
       "      <td>1.0</td>\n",
       "      <td>1.0</td>\n",
       "    </tr>\n",
       "    <tr>\n",
       "      <th>Apr</th>\n",
       "      <td>0.0</td>\n",
       "      <td>0.0</td>\n",
       "      <td>0.0</td>\n",
       "    </tr>\n",
       "    <tr>\n",
       "      <th>May</th>\n",
       "      <td>2.0</td>\n",
       "      <td>0.0</td>\n",
       "      <td>0.0</td>\n",
       "    </tr>\n",
       "    <tr>\n",
       "      <th>Jun</th>\n",
       "      <td>2.0</td>\n",
       "      <td>1.0</td>\n",
       "      <td>0.0</td>\n",
       "    </tr>\n",
       "  </tbody>\n",
       "</table>\n",
       "</div>"
      ],
      "text/plain": [
       "     Grinders  Drills  Borers\n",
       "Jan       0.0     0.0     0.0\n",
       "Feb       0.0     0.0     0.0\n",
       "Mar       0.0     1.0     1.0\n",
       "Apr       0.0     0.0     0.0\n",
       "May       2.0     0.0     0.0\n",
       "Jun       2.0     1.0     0.0"
      ]
     },
     "execution_count": 32,
     "metadata": {},
     "output_type": "execute_result"
    }
   ],
   "source": [
    "rows = months.copy()\n",
    "columns = machines.copy()\n",
    "repair_plan = pd.DataFrame(columns=columns, index=rows, data=0.0)\n",
    "\n",
    "for month, machine in repair.keys():\n",
    "    if (abs(repair[month, machine].x) > 1e-6):\n",
    "        repair_plan.loc[month, machine] = repair[month, machine].x\n",
    "repair_plan"
   ]
  },
  {
   "cell_type": "code",
   "execution_count": 33,
   "metadata": {},
   "outputs": [],
   "source": [
    "factory.write('factoryplanning.sol')"
   ]
  },
  {
   "cell_type": "code",
   "execution_count": null,
   "metadata": {},
   "outputs": [],
   "source": []
  }
 ],
 "metadata": {
  "kernelspec": {
   "display_name": "Python 3",
   "language": "python",
   "name": "python3"
  },
  "language_info": {
   "codemirror_mode": {
    "name": "ipython",
    "version": 3
   },
   "file_extension": ".py",
   "mimetype": "text/x-python",
   "name": "python",
   "nbconvert_exporter": "python",
   "pygments_lexer": "ipython3",
   "version": "3.7.6"
  }
 },
 "nbformat": 4,
 "nbformat_minor": 2
}
