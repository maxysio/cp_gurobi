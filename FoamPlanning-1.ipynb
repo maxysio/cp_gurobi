{
 "cells": [
  {
   "cell_type": "markdown",
   "metadata": {
    "slideshow": {
     "slide_type": "slide"
    }
   },
   "source": [
    "# Sample Foam Plant Planning"
   ]
  },
  {
   "cell_type": "markdown",
   "metadata": {
    "slideshow": {
     "slide_type": "slide"
    }
   },
   "source": [
    "## Problem Statement\n",
    "- Foam plants have complex scheduling process\n",
    "- Mould arrangement on foram production line (racetracks) have numerous constraints which represent a large number of possible solutions"
   ]
  },
  {
   "cell_type": "markdown",
   "metadata": {
    "slideshow": {
     "slide_type": "slide"
    }
   },
   "source": [
    "#### Products\n",
    "- For this POC, we are considering 3 products: __Prod1, Prod2 and Prod3__"
   ]
  },
  {
   "cell_type": "markdown",
   "metadata": {
    "slideshow": {
     "slide_type": "subslide"
    }
   },
   "source": [
    "#### Production Plan/Customer Demand\n",
    "- Demand is defined by Weeks based on the customer demand\n",
    "- This POC will be consider optimization for a __6 week period. Customer Demand and Profit__\n",
    "\n",
    "| Week | Prod1 | Prod2 | Prod3 |\n",
    "| --- | --- | --- | --- |\n",
    "| PROFIT | 10 | 6 | 8 |\n",
    "| Week1 | 5000 | 6000 | 3000 |\n",
    "| Week2 | 6000 | 5000 | 2000 |\n",
    "| Week3 | 3000 | 3000 | 2000 |\n",
    "| Week4 | 2000 | 3000 | 4000 |\n",
    "| Week5 | 2000 | 1000 | 5000 |\n",
    "| Week6 | 5000 | 5000 | 1000 |"
   ]
  },
  {
   "cell_type": "markdown",
   "metadata": {
    "slideshow": {
     "slide_type": "slide"
    }
   },
   "source": [
    "#### Moulds\n",
    "- Moulds are Tools or Cavity used to create the foam seats. There are __10 moulds__ available of __3 types__\n",
    "- A product can be made from only certain mould types. Below is the mapping and the time required in minutes:\n",
    "- __Asuumption is that it takes 40 minutes to mount Moulds onto a cassette TBD__"
   ]
  },
  {
   "cell_type": "markdown",
   "metadata": {
    "slideshow": {
     "slide_type": "subslide"
    }
   },
   "source": [
    "| Mould-Type | Prod1 | Prod2 | Prod3 |\n",
    "| --- | --- | --- | --- |\n",
    "| Mould-TypeA | 7 | 0 | 0 |\n",
    "| Mould-TypeB | 0 | 7 | 0 |\n",
    "| Mould-TypeC | 0 | 0 | 7 |"
   ]
  },
  {
   "cell_type": "markdown",
   "metadata": {
    "slideshow": {
     "slide_type": "subslide"
    }
   },
   "source": [
    "- __Total moulds: 20__\n",
    "- Mould-TypeA - 7 quantities\n",
    "- Mould-TypeB - 7 quantities\n",
    "- Mould-TypeC - 6 quantities"
   ]
  },
  {
   "cell_type": "markdown",
   "metadata": {
    "slideshow": {
     "slide_type": "slide"
    }
   },
   "source": [
    "#### Cassette - TBD\n",
    "- Cassette is a container on which Moulds are placed. Cassettes are placed on a carrier once Moulds are placed on them. Prior to mounting Moulds, Cassettes need to be prepared. When the cassette is ready with proper Moulds, Line stops and old cassette is demounted from carrier. New cassette with new tools is mounted on freed carrier.\n",
    "- __Assumption__ is that any mould can be mounted on any cassette. There are __15 cassetes__"
   ]
  },
  {
   "cell_type": "markdown",
   "metadata": {
    "slideshow": {
     "slide_type": "slide"
    }
   },
   "source": [
    "#### Carriers - TBD\n",
    "- Carriers are fixed on the racetrack. It moves around the racetrack at a constant speed. \n",
    "- __Assumption__ here is that there are a total of __10 carriers__ on the racetrack"
   ]
  },
  {
   "cell_type": "markdown",
   "metadata": {
    "slideshow": {
     "slide_type": "slide"
    }
   },
   "source": [
    "#### Production Line/Racetrack - TBD\n",
    "- Production Lines are called __Racetracks__. Line speed is the speed at carriers go around the racetrack\n",
    "- __Assumption__ is __Line Speed = 5 carriers/hour__"
   ]
  },
  {
   "cell_type": "markdown",
   "metadata": {
    "slideshow": {
     "slide_type": "slide"
    }
   },
   "source": [
    "#### Factory Schedule\n",
    "- Factory runs 7 days a week, 3 shifts a day of 8 hours each\n",
    "- __Breaks in eah shift:__ 10 min, 20 min and 10 min\n",
    "- __Production Time in each shift__ = 480 mins - 40 mins = 440 mins"
   ]
  },
  {
   "cell_type": "markdown",
   "metadata": {
    "slideshow": {
     "slide_type": "subslide"
    }
   },
   "source": [
    "- __Assumption for periods in each shift: TBD__\n",
    "    - Each shift has 8 hours = __480 mins__\n",
    "    \n",
    "    - __Period 1: 140 mins__ = 2 hours, 20 mins\n",
    "    - __Break  1:  10 mins__\n",
    "    \n",
    "    - __Period 2: 160 mins__ = 2 hours, 40 mins\n",
    "    - __Break  2:  20 mins__\n",
    "    \n",
    "    - __Period 3: 140 mins__ = 2 hours, 20 mins\n",
    "    - __Break 3:   10 mins__"
   ]
  },
  {
   "cell_type": "markdown",
   "metadata": {
    "slideshow": {
     "slide_type": "subslide"
    }
   },
   "source": [
    "- __Changeover  TBD__\n",
    "- This is when a cassette is demounted and a new cassette is loaded\n",
    "- Each 10 min break can have maximum of 1 changeover\n",
    "- Each 20 mins break can have a maximum of 2 changeovers"
   ]
  },
  {
   "cell_type": "markdown",
   "metadata": {
    "slideshow": {
     "slide_type": "slide"
    }
   },
   "source": [
    "#### Inventory\n",
    "- Upto 500 units of each product may be stored in inventory per week at a cost of $0.50 per unit per week.\n",
    "- At the start of Week1, there is no product inventory\n",
    "- By end of Week6, there should be 1000 units of each product in Inventory"
   ]
  },
  {
   "cell_type": "markdown",
   "metadata": {
    "slideshow": {
     "slide_type": "slide"
    }
   },
   "source": [
    "#### Other constraints out of scope for this POC\n",
    "- Cassette to Line compatibility\n",
    "- Tool to Line compatibility\n",
    "- Tool to Carrier compatibility\n",
    "- Tilt\n",
    "- Vaccum not more than 1 in 3\n",
    "- Holiday schedule\n",
    "- Human effort involved\n",
    "- Human schedule"
   ]
  },
  {
   "cell_type": "markdown",
   "metadata": {
    "slideshow": {
     "slide_type": "slide"
    }
   },
   "source": [
    "### Objectives\n",
    "- How can we achieve maximum profit\n",
    "- What is the most optimized schedule\n",
    "- Does the most optimized schedule give us the least number of changovers?"
   ]
  },
  {
   "cell_type": "markdown",
   "metadata": {
    "slideshow": {
     "slide_type": "slide"
    }
   },
   "source": [
    "### Modelling"
   ]
  },
  {
   "cell_type": "markdown",
   "metadata": {
    "slideshow": {
     "slide_type": "slide"
    }
   },
   "source": [
    "#### Sets and Indices\n",
    "\n",
    "t ∊ Weeks = {Week1, Week2, Week3, Week4, Week5, Week6}\n",
    "\n",
    "p ∊ Products = {Prod1, Prod2, Prod3}\n",
    "\n",
    "m ∊ Moulds = {Mould-TypeA, Mould-TypeB, Mould-TypeC}"
   ]
  },
  {
   "cell_type": "markdown",
   "metadata": {
    "slideshow": {
     "slide_type": "slide"
    }
   },
   "source": [
    "#### Parameters"
   ]
  },
  {
   "cell_type": "markdown",
   "metadata": {
    "slideshow": {
     "slide_type": "subslide"
    }
   },
   "source": [
    "- hours_per_week -> Tme (in mins/week) available for Production of the products on a weekly basis = Number of working days in a week (7) * number of shifts (3) * duration of a shift (8) MINUS the break periods\n",
    "- max_inventory -> Maximum number of units of a single product type that can be stored in inventory at any given month\n",
    "- holding_cost -> monthly cost in (USD/unit/month) of keeping in inventory a unit of any product type\n",
    "- store_target -> Number of units of each product type to keep in inventory at the end of a planning phase"
   ]
  },
  {
   "cell_type": "markdown",
   "metadata": {
    "slideshow": {
     "slide_type": "subslide"
    }
   },
   "source": [
    "- profit(p) -> Proft (in USD/unit) of product p\n",
    "- installed(m) -> Number of moulds of type m installed in the factory\n",
    "- max_sales(t,p) -> Number of units of product p that can be sold in week t\n",
    "- time_req (m,p) -> Time (in mins/unit) needed on a mould m to manufacture one unit of product p"
   ]
  },
  {
   "cell_type": "markdown",
   "metadata": {
    "slideshow": {
     "slide_type": "slide"
    }
   },
   "source": [
    "#### Decision Variables"
   ]
  },
  {
   "cell_type": "markdown",
   "metadata": {
    "slideshow": {
     "slide_type": "subslide"
    }
   },
   "source": [
    "- make(t,p) -> Number of units of product p to manufacture in week t\n",
    "- store(t,p)[0, max_inventory] -> Number of units of product p to store in week t\n",
    "- sell(t,p)[0, max_sales(t,p)] -> Number of units of product p to sell in month t"
   ]
  },
  {
   "cell_type": "markdown",
   "metadata": {
    "slideshow": {
     "slide_type": "slide"
    }
   },
   "source": [
    "#### Constraints"
   ]
  },
  {
   "cell_type": "markdown",
   "metadata": {
    "slideshow": {
     "slide_type": "subslide"
    }
   },
   "source": [
    "- __Initial Balance:__ For each product p, the number of units produced should be equal to the number of units sold plus the number of units stored. Here since Week1 is used since it is the first week\n",
    "\n",
    "        make(Week1,p) = sell(t,p) + store(Week1,p)\n",
    "        \n",
    "- __Balance:__ For each product p, the number of units produced in a week t and previously stored should be equal to the number of units sold and stored in that month\n",
    "    \n",
    "        store(t-1, p) + make(t,p) = sell(t,p) + store(t,p)"
   ]
  },
  {
   "cell_type": "markdown",
   "metadata": {
    "slideshow": {
     "slide_type": "slide"
    }
   },
   "source": [
    "#### Objective\n",
    "- Maximize profit\n",
    "- Optimize schedule"
   ]
  },
  {
   "cell_type": "markdown",
   "metadata": {
    "slideshow": {
     "slide_type": "slide"
    }
   },
   "source": [
    "### Implementation"
   ]
  },
  {
   "cell_type": "code",
   "execution_count": 31,
   "metadata": {
    "slideshow": {
     "slide_type": "skip"
    }
   },
   "outputs": [],
   "source": [
    "import numpy as np\n",
    "import pandas as pd\n",
    "\n",
    "import gurobipy as gp\n",
    "from gurobipy import GRB"
   ]
  },
  {
   "cell_type": "code",
   "execution_count": 32,
   "metadata": {
    "slideshow": {
     "slide_type": "fragment"
    }
   },
   "outputs": [],
   "source": [
    "# Sets\n",
    "products = ['Prod1', 'Prod2', 'Prod3']\n",
    "machines = ['Mould-TypeA', 'Mould-TypeB', 'Mould-TypeC']\n",
    "weeks = ['Week1', 'Week2', 'Week3', 'Week4', 'Week5', 'Week6']\n",
    "profit = {'Prod1':10, 'Prod2':6, 'Prod3':8}\n",
    "time_req = {\n",
    "    'Mould-TypeA': {'Prod1': 7},\n",
    "    'Mould-TypeB': {'Prod2': 7},\n",
    "    'Mould-TypeC': {'Prod3': 7}\n",
    "}\n",
    "# Number of each Moulds available assuming \n",
    "# all moulds can be used during the \n",
    "# entire production time without downtime\n",
    "installed = {'Mould-TypeA': 7, 'Mould-TypeB': 7, 'Mould-TypeC': 6}"
   ]
  },
  {
   "cell_type": "code",
   "execution_count": 33,
   "metadata": {
    "slideshow": {
     "slide_type": "subslide"
    }
   },
   "outputs": [],
   "source": [
    "# Maximum Sales Forecast/Requirement\n",
    "max_sales = {\n",
    "    ('Week1', 'Prod1'): 5000,\n",
    "    ('Week1', 'Prod2'): 6000,\n",
    "    ('Week1', 'Prod3'): 3000,\n",
    "    ('Week2', 'Prod1'): 6000,\n",
    "    ('Week2', 'Prod2'): 5000,\n",
    "    ('Week2', 'Prod3'): 2000,\n",
    "    ('Week3', 'Prod1'): 3000,\n",
    "    ('Week3', 'Prod2'): 3000,\n",
    "    ('Week3', 'Prod3'): 2000,\n",
    "    ('Week4', 'Prod1'): 2000,\n",
    "    ('Week4', 'Prod2'): 3000,\n",
    "    ('Week4', 'Prod3'): 4000,\n",
    "    ('Week5', 'Prod1'): 2000,\n",
    "    ('Week5', 'Prod2'): 1000,\n",
    "    ('Week5', 'Prod3'): 5000,\n",
    "    ('Week6', 'Prod1'): 5000,\n",
    "    ('Week6', 'Prod2'): 5000,\n",
    "    ('Week6', 'Prod3'): 1000,\n",
    "}"
   ]
  },
  {
   "cell_type": "code",
   "execution_count": 34,
   "metadata": {
    "slideshow": {
     "slide_type": "skip"
    }
   },
   "outputs": [],
   "source": [
    "holding_cost = 0.5\n",
    "max_inventory = 500\n",
    "store_target = 100\n",
    "mins_per_week = 7*3*440"
   ]
  },
  {
   "cell_type": "markdown",
   "metadata": {
    "slideshow": {
     "slide_type": "slide"
    }
   },
   "source": [
    "#### Model Deployment"
   ]
  },
  {
   "cell_type": "code",
   "execution_count": 35,
   "metadata": {
    "slideshow": {
     "slide_type": "fragment"
    }
   },
   "outputs": [],
   "source": [
    "# Create the Model\n",
    "factory = gp.Model('Factory Planning')\n",
    "\n",
    "# Add the Variables\n",
    "\n",
    "# Qty manufactured\n",
    "make = factory.addVars(weeks, products, name='Make')\n",
    "\n",
    "# Quantity stored\n",
    "store = factory.addVars(weeks, products, ub=max_inventory, name='Store')\n",
    "\n",
    "# Quantity Sold\n",
    "sell = factory.addVars(weeks, products, ub=max_sales, name='Sell')"
   ]
  },
  {
   "cell_type": "code",
   "execution_count": 36,
   "metadata": {
    "slideshow": {
     "slide_type": "fragment"
    }
   },
   "outputs": [],
   "source": [
    "# Add the constraints\n",
    "# Initial Balance\n",
    "initial_balance = factory.addConstrs((\n",
    "    make[weeks[0], product] == \n",
    "    sell[weeks[0], product] + store[weeks[0], product] \n",
    "    for product in products), name='Initial_Balance')\n",
    "\n",
    "# Balance\n",
    "balance = factory.addConstrs((\n",
    "    store[weeks[weeks.index(week)-1], product] + make[week, product] ==\n",
    "    sell[week, product] + store[week, product]\n",
    "    for product in products for week in weeks\n",
    "    if week != weeks[0]), name='Balance')"
   ]
  },
  {
   "cell_type": "code",
   "execution_count": 37,
   "metadata": {
    "slideshow": {
     "slide_type": "subslide"
    }
   },
   "outputs": [],
   "source": [
    "target_inventory = factory.addConstrs((\n",
    "    store[weeks[-1], product] == store_target\n",
    "    for product in products), name='End_Balance')"
   ]
  },
  {
   "cell_type": "code",
   "execution_count": 38,
   "metadata": {
    "slideshow": {
     "slide_type": "fragment"
    }
   },
   "outputs": [],
   "source": [
    "# Define the objective\n",
    "obj = gp.quicksum(profit[product] * sell[week, product] - \n",
    "                 holding_cost * store[week, product]\n",
    "                 for week in weeks for product in products)\n",
    "\n",
    "factory.setObjective(obj, GRB.MAXIMIZE)"
   ]
  },
  {
   "cell_type": "code",
   "execution_count": 39,
   "metadata": {
    "slideshow": {
     "slide_type": "subslide"
    }
   },
   "outputs": [
    {
     "name": "stdout",
     "output_type": "stream",
     "text": [
      "Gurobi Optimizer version 9.0.1 build v9.0.1rc0 (mac64)\n",
      "Optimize a model with 21 rows, 54 columns and 72 nonzeros\n",
      "Model fingerprint: 0x19cd64fa\n",
      "Coefficient statistics:\n",
      "  Matrix range     [1e+00, 1e+00]\n",
      "  Objective range  [5e-01, 1e+01]\n",
      "  Bounds range     [5e+02, 6e+03]\n",
      "  RHS range        [1e+02, 1e+02]\n",
      "Presolve removed 21 rows and 54 columns\n",
      "Presolve time: 0.02s\n",
      "Presolve: All rows and columns removed\n",
      "Iteration    Objective       Primal Inf.    Dual Inf.      Time\n",
      "       0    5.0385000e+05   0.000000e+00   0.000000e+00      0s\n",
      "\n",
      "Solved in 0 iterations and 0.02 seconds\n",
      "Optimal objective  5.038500000e+05\n"
     ]
    }
   ],
   "source": [
    "factory.optimize()"
   ]
  },
  {
   "cell_type": "markdown",
   "metadata": {
    "slideshow": {
     "slide_type": "slide"
    }
   },
   "source": [
    "#### Production Plan"
   ]
  },
  {
   "cell_type": "code",
   "execution_count": 40,
   "metadata": {
    "scrolled": true,
    "slideshow": {
     "slide_type": "subslide"
    }
   },
   "outputs": [
    {
     "data": {
      "text/html": [
       "<div>\n",
       "<style scoped>\n",
       "    .dataframe tbody tr th:only-of-type {\n",
       "        vertical-align: middle;\n",
       "    }\n",
       "\n",
       "    .dataframe tbody tr th {\n",
       "        vertical-align: top;\n",
       "    }\n",
       "\n",
       "    .dataframe thead th {\n",
       "        text-align: right;\n",
       "    }\n",
       "</style>\n",
       "<table border=\"1\" class=\"dataframe\">\n",
       "  <thead>\n",
       "    <tr style=\"text-align: right;\">\n",
       "      <th></th>\n",
       "      <th>Prod1</th>\n",
       "      <th>Prod2</th>\n",
       "      <th>Prod3</th>\n",
       "    </tr>\n",
       "  </thead>\n",
       "  <tbody>\n",
       "    <tr>\n",
       "      <th>Week1</th>\n",
       "      <td>5000.0</td>\n",
       "      <td>6000.0</td>\n",
       "      <td>3000.0</td>\n",
       "    </tr>\n",
       "    <tr>\n",
       "      <th>Week2</th>\n",
       "      <td>6000.0</td>\n",
       "      <td>5000.0</td>\n",
       "      <td>2000.0</td>\n",
       "    </tr>\n",
       "    <tr>\n",
       "      <th>Week3</th>\n",
       "      <td>3000.0</td>\n",
       "      <td>3000.0</td>\n",
       "      <td>2000.0</td>\n",
       "    </tr>\n",
       "    <tr>\n",
       "      <th>Week4</th>\n",
       "      <td>2000.0</td>\n",
       "      <td>3000.0</td>\n",
       "      <td>4000.0</td>\n",
       "    </tr>\n",
       "    <tr>\n",
       "      <th>Week5</th>\n",
       "      <td>2000.0</td>\n",
       "      <td>1000.0</td>\n",
       "      <td>5000.0</td>\n",
       "    </tr>\n",
       "    <tr>\n",
       "      <th>Week6</th>\n",
       "      <td>5100.0</td>\n",
       "      <td>5100.0</td>\n",
       "      <td>1100.0</td>\n",
       "    </tr>\n",
       "  </tbody>\n",
       "</table>\n",
       "</div>"
      ],
      "text/plain": [
       "        Prod1   Prod2   Prod3\n",
       "Week1  5000.0  6000.0  3000.0\n",
       "Week2  6000.0  5000.0  2000.0\n",
       "Week3  3000.0  3000.0  2000.0\n",
       "Week4  2000.0  3000.0  4000.0\n",
       "Week5  2000.0  1000.0  5000.0\n",
       "Week6  5100.0  5100.0  1100.0"
      ]
     },
     "execution_count": 40,
     "metadata": {},
     "output_type": "execute_result"
    }
   ],
   "source": [
    "rows = weeks.copy()\n",
    "columns = products.copy()\n",
    "make_plan = pd.DataFrame(columns=columns, index=rows, data=0.0)\n",
    "for week, product in make.keys():\n",
    "    if(abs(make[week, product].x) > 1e-6):\n",
    "        make_plan.loc[week, product] = np.round(make[week, product].x, 1)\n",
    "make_plan"
   ]
  },
  {
   "cell_type": "markdown",
   "metadata": {
    "slideshow": {
     "slide_type": "slide"
    }
   },
   "source": [
    "#### Sales Plan"
   ]
  },
  {
   "cell_type": "code",
   "execution_count": 41,
   "metadata": {
    "slideshow": {
     "slide_type": "subslide"
    }
   },
   "outputs": [
    {
     "data": {
      "text/html": [
       "<div>\n",
       "<style scoped>\n",
       "    .dataframe tbody tr th:only-of-type {\n",
       "        vertical-align: middle;\n",
       "    }\n",
       "\n",
       "    .dataframe tbody tr th {\n",
       "        vertical-align: top;\n",
       "    }\n",
       "\n",
       "    .dataframe thead th {\n",
       "        text-align: right;\n",
       "    }\n",
       "</style>\n",
       "<table border=\"1\" class=\"dataframe\">\n",
       "  <thead>\n",
       "    <tr style=\"text-align: right;\">\n",
       "      <th></th>\n",
       "      <th>Prod1</th>\n",
       "      <th>Prod2</th>\n",
       "      <th>Prod3</th>\n",
       "    </tr>\n",
       "  </thead>\n",
       "  <tbody>\n",
       "    <tr>\n",
       "      <th>Week1</th>\n",
       "      <td>5000.0</td>\n",
       "      <td>6000.0</td>\n",
       "      <td>3000.0</td>\n",
       "    </tr>\n",
       "    <tr>\n",
       "      <th>Week2</th>\n",
       "      <td>6000.0</td>\n",
       "      <td>5000.0</td>\n",
       "      <td>2000.0</td>\n",
       "    </tr>\n",
       "    <tr>\n",
       "      <th>Week3</th>\n",
       "      <td>3000.0</td>\n",
       "      <td>3000.0</td>\n",
       "      <td>2000.0</td>\n",
       "    </tr>\n",
       "    <tr>\n",
       "      <th>Week4</th>\n",
       "      <td>2000.0</td>\n",
       "      <td>3000.0</td>\n",
       "      <td>4000.0</td>\n",
       "    </tr>\n",
       "    <tr>\n",
       "      <th>Week5</th>\n",
       "      <td>2000.0</td>\n",
       "      <td>1000.0</td>\n",
       "      <td>5000.0</td>\n",
       "    </tr>\n",
       "    <tr>\n",
       "      <th>Week6</th>\n",
       "      <td>5000.0</td>\n",
       "      <td>5000.0</td>\n",
       "      <td>1000.0</td>\n",
       "    </tr>\n",
       "  </tbody>\n",
       "</table>\n",
       "</div>"
      ],
      "text/plain": [
       "        Prod1   Prod2   Prod3\n",
       "Week1  5000.0  6000.0  3000.0\n",
       "Week2  6000.0  5000.0  2000.0\n",
       "Week3  3000.0  3000.0  2000.0\n",
       "Week4  2000.0  3000.0  4000.0\n",
       "Week5  2000.0  1000.0  5000.0\n",
       "Week6  5000.0  5000.0  1000.0"
      ]
     },
     "execution_count": 41,
     "metadata": {},
     "output_type": "execute_result"
    }
   ],
   "source": [
    "rows = weeks.copy()\n",
    "columns = products.copy()\n",
    "sell_plan = pd.DataFrame(columns=columns, index=rows, data=0.0)\n",
    "for week, product in sell.keys():\n",
    "    if (abs(sell[week, product].x) > 1e-6):\n",
    "        sell_plan.loc[week, product] = np.round(sell[week, product].x, 1)\n",
    "sell_plan"
   ]
  },
  {
   "cell_type": "markdown",
   "metadata": {
    "slideshow": {
     "slide_type": "slide"
    }
   },
   "source": [
    "#### Inventory Plan"
   ]
  },
  {
   "cell_type": "code",
   "execution_count": 42,
   "metadata": {
    "slideshow": {
     "slide_type": "subslide"
    }
   },
   "outputs": [
    {
     "data": {
      "text/html": [
       "<div>\n",
       "<style scoped>\n",
       "    .dataframe tbody tr th:only-of-type {\n",
       "        vertical-align: middle;\n",
       "    }\n",
       "\n",
       "    .dataframe tbody tr th {\n",
       "        vertical-align: top;\n",
       "    }\n",
       "\n",
       "    .dataframe thead th {\n",
       "        text-align: right;\n",
       "    }\n",
       "</style>\n",
       "<table border=\"1\" class=\"dataframe\">\n",
       "  <thead>\n",
       "    <tr style=\"text-align: right;\">\n",
       "      <th></th>\n",
       "      <th>Prod1</th>\n",
       "      <th>Prod2</th>\n",
       "      <th>Prod3</th>\n",
       "    </tr>\n",
       "  </thead>\n",
       "  <tbody>\n",
       "    <tr>\n",
       "      <th>Week1</th>\n",
       "      <td>0.0</td>\n",
       "      <td>0.0</td>\n",
       "      <td>0.0</td>\n",
       "    </tr>\n",
       "    <tr>\n",
       "      <th>Week2</th>\n",
       "      <td>0.0</td>\n",
       "      <td>0.0</td>\n",
       "      <td>0.0</td>\n",
       "    </tr>\n",
       "    <tr>\n",
       "      <th>Week3</th>\n",
       "      <td>0.0</td>\n",
       "      <td>0.0</td>\n",
       "      <td>0.0</td>\n",
       "    </tr>\n",
       "    <tr>\n",
       "      <th>Week4</th>\n",
       "      <td>0.0</td>\n",
       "      <td>0.0</td>\n",
       "      <td>0.0</td>\n",
       "    </tr>\n",
       "    <tr>\n",
       "      <th>Week5</th>\n",
       "      <td>0.0</td>\n",
       "      <td>0.0</td>\n",
       "      <td>0.0</td>\n",
       "    </tr>\n",
       "    <tr>\n",
       "      <th>Week6</th>\n",
       "      <td>100.0</td>\n",
       "      <td>100.0</td>\n",
       "      <td>100.0</td>\n",
       "    </tr>\n",
       "  </tbody>\n",
       "</table>\n",
       "</div>"
      ],
      "text/plain": [
       "       Prod1  Prod2  Prod3\n",
       "Week1    0.0    0.0    0.0\n",
       "Week2    0.0    0.0    0.0\n",
       "Week3    0.0    0.0    0.0\n",
       "Week4    0.0    0.0    0.0\n",
       "Week5    0.0    0.0    0.0\n",
       "Week6  100.0  100.0  100.0"
      ]
     },
     "execution_count": 42,
     "metadata": {},
     "output_type": "execute_result"
    }
   ],
   "source": [
    "rows = weeks.copy()\n",
    "columns = products.copy()\n",
    "store_plan = pd.DataFrame(columns=columns, index=rows, data=0.0)\n",
    "\n",
    "for week, product in store.keys():\n",
    "    if (abs(store[week, product].x) > 1e-6):\n",
    "        store_plan.loc[week, product] = np.round(store[week, product].x, 1)\n",
    "store_plan"
   ]
  }
 ],
 "metadata": {
  "celltoolbar": "Slideshow",
  "kernelspec": {
   "display_name": "Python 3",
   "language": "python",
   "name": "python3"
  },
  "language_info": {
   "codemirror_mode": {
    "name": "ipython",
    "version": 3
   },
   "file_extension": ".py",
   "mimetype": "text/x-python",
   "name": "python",
   "nbconvert_exporter": "python",
   "pygments_lexer": "ipython3",
   "version": "3.7.6"
  }
 },
 "nbformat": 4,
 "nbformat_minor": 4
}
