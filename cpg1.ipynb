{
 "cells": [
  {
   "cell_type": "code",
   "execution_count": 1,
   "metadata": {},
   "outputs": [],
   "source": [
    "import gurobipy as gp\n",
    "from gurobipy import GRB"
   ]
  },
  {
   "cell_type": "code",
   "execution_count": 71,
   "metadata": {},
   "outputs": [],
   "source": [
    "def SimpleCPProgram():\n",
    "    # Create the model\n",
    "    m = gp.Model('Variable Values')\n",
    "    \n",
    "    # Create the variables\n",
    "    num_vals = 3\n",
    "    x = m.addVar(0, num_vals-1, 1, GRB.INTEGER, 'x')\n",
    "    y = m.addVar(0, num_vals-1, 1, GRB.INTEGER, 'y')\n",
    "    z = m.addVar(0, num_vals-1, 1, GRB.INTEGER, 'z')\n",
    "    \n",
    "    # Create the constraint\n",
    "    # Note in Constraints the only options are Equal, Greater than or less than\n",
    "    m.addConstr(x>=2*y, 'c0')\n",
    "    \n",
    "    # Set the objective and Optimize the model\n",
    "    m.setObjective(x+y+z, GRB.MAXIMIZE)\n",
    "    m.optimize()\n",
    "    \n",
    "    for v in m.getVars():\n",
    "        print(v.varName, v.x)\n",
    "    print('Obj:', m.objVal)"
   ]
  },
  {
   "cell_type": "code",
   "execution_count": 72,
   "metadata": {},
   "outputs": [
    {
     "name": "stdout",
     "output_type": "stream",
     "text": [
      "Gurobi Optimizer version 9.0.1 build v9.0.1rc0 (mac64)\n",
      "Optimize a model with 1 rows, 3 columns and 2 nonzeros\n",
      "Model fingerprint: 0x87facac9\n",
      "Variable types: 0 continuous, 3 integer (0 binary)\n",
      "Coefficient statistics:\n",
      "  Matrix range     [1e+00, 2e+00]\n",
      "  Objective range  [1e+00, 1e+00]\n",
      "  Bounds range     [2e+00, 2e+00]\n",
      "  RHS range        [0e+00, 0e+00]\n",
      "Found heuristic solution: objective 5.0000000\n",
      "Presolve removed 1 rows and 3 columns\n",
      "Presolve time: 0.00s\n",
      "Presolve: All rows and columns removed\n",
      "\n",
      "Explored 0 nodes (0 simplex iterations) in 0.08 seconds\n",
      "Thread count was 1 (of 4 available processors)\n",
      "\n",
      "Solution count 1: 5 \n",
      "\n",
      "Optimal solution found (tolerance 1.00e-04)\n",
      "Best objective 5.000000000000e+00, best bound 5.000000000000e+00, gap 0.0000%\n",
      "x 2.0\n",
      "y 1.0\n",
      "z 2.0\n",
      "Obj: 5.0\n"
     ]
    }
   ],
   "source": [
    "SimpleCPProgram()"
   ]
  }
 ],
 "metadata": {
  "kernelspec": {
   "display_name": "Python 3",
   "language": "python",
   "name": "python3"
  },
  "language_info": {
   "codemirror_mode": {
    "name": "ipython",
    "version": 3
   },
   "file_extension": ".py",
   "mimetype": "text/x-python",
   "name": "python",
   "nbconvert_exporter": "python",
   "pygments_lexer": "ipython3",
   "version": "3.7.1"
  }
 },
 "nbformat": 4,
 "nbformat_minor": 2
}
