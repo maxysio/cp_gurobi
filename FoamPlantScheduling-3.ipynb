{
 "cells": [
  {
   "cell_type": "markdown",
   "metadata": {
    "slideshow": {
     "slide_type": "slide"
    }
   },
   "source": [
    "# Sample Foam Plant Planning"
   ]
  },
  {
   "cell_type": "markdown",
   "metadata": {
    "slideshow": {
     "slide_type": "slide"
    }
   },
   "source": [
    "## Problem Statement\n",
    "- Foam plants have complex scheduling process\n",
    "- Mould arrangement on foram production line (racetracks) have numerous constraints which represent a large number of possible solutions"
   ]
  },
  {
   "cell_type": "markdown",
   "metadata": {
    "slideshow": {
     "slide_type": "slide"
    }
   },
   "source": [
    "#### Products and Tools/Molds\n",
    "- For this POC, we are considering 3 products: __Prod1, Prod2 and Prod3__\n",
    "- Prod1, Prod2 and Prod3 can be made by tools/molds __Tool1, Tool2, Tool3__\n",
    "- The number of tools available: __Tool1=10, Tool2=10, Tool3=10__"
   ]
  },
  {
   "cell_type": "markdown",
   "metadata": {
    "slideshow": {
     "slide_type": "slide"
    }
   },
   "source": [
    "#### Customer Demand\n",
    "- Customer demand is provided for 12 weeks which is then udpated weekly\n",
    "- For this POC, we are considering it for 1 week\n",
    "\n",
    "| Prod | Week1 |\n",
    "| --- | --- |\n",
    "| Prod1 | 5000 |\n",
    "| Prod2 | 6000 |\n",
    "| Prod3 | 3000 |"
   ]
  },
  {
   "cell_type": "markdown",
   "metadata": {
    "slideshow": {
     "slide_type": "slide"
    }
   },
   "source": [
    "#### Carrier\n",
    "- For this POC, we are considering that any Tool can be placed on any Carrier.\n",
    "- One tool can be placed on one carrier.\n",
    "- The complexity of FBE will be introduced at a later version."
   ]
  },
  {
   "cell_type": "markdown",
   "metadata": {
    "slideshow": {
     "slide_type": "slide"
    }
   },
   "source": [
    "#### Racetrack/Production Line\n",
    "- Carriers are fixed to the racetrack and production lines which go around at a specific speed. For this POC, we are considering that there is 1 racetrack\n",
    "- Linespeed of a Ractrack how many carriers finish the production process in a given time. For eg if it is 42 carriers per hour, it would mean 42 products were produced in an hour.\n",
    "- In this POC, the speed is considered ad __42 carriers per hour__"
   ]
  },
  {
   "cell_type": "markdown",
   "metadata": {
    "slideshow": {
     "slide_type": "slide"
    }
   },
   "source": [
    "#### Inventory and Minimum Stock\n",
    "- For this POC, we will assume there is a begining inventory for this process\n",
    "- Additionally, we will want that the end of the week, there should be a minimum stock for each product. This could be a derivative of the customer demand, for this POC we are defining it as an absolute value\n",
    "\n",
    "| Prod | StartingInventory | EndingInventory |\n",
    "| --- | --- | --- |\n",
    "| Prod1 | 10 | 50 |\n",
    "| Prod2 | 20 | 40 |\n",
    "| Prod3 | 10 | 30 |"
   ]
  },
  {
   "cell_type": "markdown",
   "metadata": {
    "slideshow": {
     "slide_type": "slide"
    }
   },
   "source": [
    "#### Factory Schedule\n",
    "- Factory runs 7 days a week, 3 shifts a day of 8 hours each\n",
    "- __Breaks in eah shift:__ 10 min, 20 min and 10 min\n",
    "- __Production Time in each shift__ = 480 mins - 40 mins = 440 mins"
   ]
  },
  {
   "cell_type": "markdown",
   "metadata": {
    "slideshow": {
     "slide_type": "subslide"
    }
   },
   "source": [
    "- Each shift has 8 hours = __480 mins__\n",
    "    \n",
    "    - __Timeslot 1: 140 mins__ = 2 hours, 20 mins\n",
    "    - __Break  1:  10 mins__\n",
    "    \n",
    "    - __Timeslot 2: 160 mins__ = 2 hours, 40 mins\n",
    "    - __Break  2:  20 mins__\n",
    "    \n",
    "    - __Timeslot 3: 140 mins__ = 2 hours, 20 mins\n",
    "    - __Break 3:   10 mins__"
   ]
  },
  {
   "cell_type": "markdown",
   "metadata": {
    "slideshow": {
     "slide_type": "slide"
    }
   },
   "source": [
    "### Modeling"
   ]
  },
  {
   "cell_type": "markdown",
   "metadata": {
    "slideshow": {
     "slide_type": "subslide"
    }
   },
   "source": [
    "#### __Parameters__\n",
    "\n",
    "- L = Line speed = 42 carriers per 60 mins\n",
    "- R = Number of carriers on the racetrack\n",
    "- D(i) = Weekly demand for part made with Tool i\n",
    "- B(i) = Begining inventory for part made with Tool i\n",
    "- I(i) = Ending inventory for part made with Tool i\n",
    "- Q(i) = Available quantity of Tool i\n",
    "- A(k) = Total time available in time slot k"
   ]
  },
  {
   "cell_type": "markdown",
   "metadata": {
    "slideshow": {
     "slide_type": "subslide"
    }
   },
   "source": [
    "__Decisision Variables__\n",
    "\n",
    "- x(i,j,k) = 1, if Tool i is placed on Carrier j in time slot k, otherwise 0\n",
    "\n",
    "- y(j,k) = 1, if Changeover happens at the end of Time slot k on carrier j. __This is the changeover__"
   ]
  },
  {
   "cell_type": "markdown",
   "metadata": {
    "slideshow": {
     "slide_type": "subslide"
    }
   },
   "source": [
    "#### Constraints\n",
    "- The number of tools placed on the carriers is less than or equal to the available tools i in the time slot k\n",
    "\n",
    "        Σj x(i,j,k) <= Q(i)"
   ]
  },
  {
   "cell_type": "markdown",
   "metadata": {
    "slideshow": {
     "slide_type": "subslide"
    }
   },
   "source": [
    "- The number of tools on a carrier is less than or equal to 1\n",
    "\n",
    "\n",
    "        Σi x(i,j,k) <= 1"
   ]
  },
  {
   "cell_type": "markdown",
   "metadata": {
    "slideshow": {
     "slide_type": "subslide"
    }
   },
   "source": [
    "- For each product (tool), the production should be greater than or equal to demand plus ending inventory\n",
    "\n",
    "        B(i) + L * Σk [A(k) * Σj x(i,j,k)] >= D(i) + I(i)"
   ]
  },
  {
   "cell_type": "markdown",
   "metadata": {
    "slideshow": {
     "slide_type": "subslide"
    }
   },
   "source": [
    "- The changeover value is 1 only when tool i on the carrier j changes between two timeslots. __This is the changeover__\n",
    "\n",
    "        y[j,k] == 1, if x[i,j,k] != x[i,j,k+1]"
   ]
  },
  {
   "cell_type": "markdown",
   "metadata": {
    "slideshow": {
     "slide_type": "subslide"
    }
   },
   "source": [
    "#### Objective\n",
    "- Minimize the changeover\n",
    "- Optimize the schedule"
   ]
  },
  {
   "cell_type": "markdown",
   "metadata": {
    "slideshow": {
     "slide_type": "slide"
    }
   },
   "source": [
    "### Implementation"
   ]
  },
  {
   "cell_type": "code",
   "execution_count": 1,
   "metadata": {
    "slideshow": {
     "slide_type": "skip"
    }
   },
   "outputs": [],
   "source": [
    "import numpy as np\n",
    "import pandas as pd\n",
    "\n",
    "import gurobipy as gp\n",
    "from gurobipy import GRB\n",
    "from gurobipy import *"
   ]
  },
  {
   "cell_type": "code",
   "execution_count": 2,
   "metadata": {
    "slideshow": {
     "slide_type": "slide"
    }
   },
   "outputs": [],
   "source": [
    "# Sets and Indices\n",
    "\n",
    "# The tools are mapped directly to products\n",
    "T = ['Tool1', 'Tool2', 'Tool3']\n",
    "\n",
    "# Available quantity of Tools\n",
    "Q = {'Tool1': 10, 'Tool2': 10, 'Tool3': 10}\n",
    "\n",
    "# Demand\n",
    "D = {'Tool1': 5000, 'Tool2': 6000, 'Tool3': 3000}\n",
    "\n",
    "# Starting inventory\n",
    "B = {'Tool1': 0, 'Tool2': 0, 'Tool3': 0}\n",
    "\n",
    "# Ending inventory \n",
    "I = {'Tool1': 50, 'Tool2': 40, 'Tool3': 30}\n",
    "\n",
    "# Line speed per minute molds produced per minute\n",
    "L = 42/60\n",
    "\n",
    "# Carriers\n",
    "R = ['C1', 'C2', 'C3', 'C4', 'C5']"
   ]
  },
  {
   "cell_type": "code",
   "execution_count": 3,
   "metadata": {
    "slideshow": {
     "slide_type": "subslide"
    }
   },
   "outputs": [],
   "source": [
    "# Timeslots\n",
    "# This is for a period of 7 days\n",
    "# Each day has 3 shifts\n",
    "# Each shift has 3 time slots or periods as in this case\n",
    "K = ['D1S1P1', 'D1S1P2', 'D1S1P3', 'D1S2P1','D1S2P2','D1S2P3','D1S3P1','D1S3P2','D1S3P3',\n",
    "     'D2S1P1', 'D2S1P2', 'D2S1P3', 'D2S2P1','D2S2P2','D2S2P3','D2S3P1','D2S3P2','D2S3P3',\n",
    "     'D3S1P1', 'D3S1P2', 'D3S1P3', 'D3S2P1','D3S2P2','D3S2P3','D3S3P1','D3S3P2','D3S3P3',\n",
    "     'D4S1P1', 'D4S1P2', 'D4S1P3', 'D4S2P1','D4S2P2','D4S2P3','D4S3P1','D4S3P2','D4S3P3',\n",
    "     'D5S1P1', 'D5S1P2', 'D5S1P3', 'D5S2P1','D5S2P2','D5S2P3','D5S3P1','D5S3P2','D5S3P3',\n",
    "     'D6S1P1', 'D6S1P2', 'D6S1P3', 'D6S2P1','D6S2P2','D6S2P3','D6S3P1','D6S3P2','D6S3P3',\n",
    "     'D7S1P1', 'D7S1P2', 'D7S1P3', 'D7S2P1','D7S2P2','D7S2P3','D7S3P1','D7S3P2','D7S3P3'\n",
    "    ]"
   ]
  },
  {
   "cell_type": "code",
   "execution_count": 4,
   "metadata": {
    "slideshow": {
     "slide_type": "subslide"
    }
   },
   "outputs": [],
   "source": [
    "# Timeslot durations: Period 1 has 140 mins, Period 2 has 160 mins, Period 3 has 140 mins\n",
    "A = {'D1S1P1': 140, 'D1S1P2': 160, 'D1S1P3': 140,\n",
    "     'D1S2P1': 140, 'D1S2P2': 160, 'D1S2P3': 140,\n",
    "     'D1S3P1': 140, 'D1S3P2': 160, 'D1S3P3': 140,\n",
    "     'D2S1P1': 140, 'D2S1P2': 160, 'D2S1P3': 140,\n",
    "     'D2S2P1': 140, 'D2S2P2': 160, 'D2S2P3': 140,\n",
    "     'D2S3P1': 140, 'D2S3P2': 160, 'D2S3P3': 140,\n",
    "     'D3S1P1': 140, 'D3S1P2': 160, 'D3S1P3': 140,\n",
    "     'D3S2P1': 140, 'D3S2P2': 160, 'D3S2P3': 140,\n",
    "     'D3S3P1': 140, 'D3S3P2': 160, 'D3S3P3': 140,\n",
    "     'D4S1P1': 140, 'D4S1P2': 160, 'D4S1P3': 140,\n",
    "     'D4S2P1': 140, 'D4S2P2': 160, 'D4S2P3': 140,\n",
    "     'D4S3P1': 140, 'D4S3P2': 160, 'D4S3P3': 140,\n",
    "     'D5S1P1': 140, 'D5S1P2': 160, 'D5S1P3': 140,\n",
    "     'D5S2P1': 140, 'D5S2P2': 160, 'D5S2P3': 140,\n",
    "     'D5S3P1': 140, 'D5S3P2': 160, 'D5S3P3': 140,\n",
    "     'D6S1P1': 140, 'D6S1P2': 160, 'D6S1P3': 140,\n",
    "     'D6S2P1': 140, 'D6S2P2': 160, 'D6S2P3': 140,\n",
    "     'D6S3P1': 140, 'D6S3P2': 160, 'D6S3P3': 140,\n",
    "     'D7S1P1': 140, 'D7S1P2': 160, 'D7S1P3': 140,\n",
    "     'D7S2P1': 140, 'D7S2P2': 160, 'D7S2P3': 140,\n",
    "     'D7S3P1': 140, 'D7S3P2': 160, 'D7S3P3': 140\n",
    "    }"
   ]
  },
  {
   "cell_type": "code",
   "execution_count": 5,
   "metadata": {
    "slideshow": {
     "slide_type": "subslide"
    }
   },
   "outputs": [
    {
     "name": "stdout",
     "output_type": "stream",
     "text": [
      "Using license file /Users/mayukh/gurobi.lic\n",
      "Academic license - for non-commercial use only\n"
     ]
    }
   ],
   "source": [
    "# Create the model\n",
    "factory = gp.Model('Foam Planning')\n",
    "\n",
    "# Add the variables\n",
    "\n",
    "# If tool is placed on carrier in that time slot\n",
    "x = factory.addVars(T, R, K, vtype=GRB.BINARY, name='x')\n",
    "\n",
    "# If changeover happens at the end of timeslot k\n",
    "y = factory.addVars(R,K, vtype=GRB.BINARY, name='y')"
   ]
  },
  {
   "cell_type": "code",
   "execution_count": 6,
   "metadata": {
    "slideshow": {
     "slide_type": "subslide"
    }
   },
   "outputs": [],
   "source": [
    "# Add the constraints\n",
    "\n",
    "# Total number of Tools on the carrier cannot be more than \n",
    "# the total number of available tools\n",
    "for k in K:\n",
    "    for i in T:\n",
    "        factory.addConstr(gp.quicksum(x[i,j,k] for j in R) <= Q[i])"
   ]
  },
  {
   "cell_type": "code",
   "execution_count": 7,
   "metadata": {
    "slideshow": {
     "slide_type": "subslide"
    }
   },
   "outputs": [],
   "source": [
    "# The number of tools on a carrier is less than or equal to 1\n",
    "# Complexity of matching and FBE will be added later\n",
    "for k in K:\n",
    "    for j in R:\n",
    "        factory.addConstr(gp.quicksum(x[i,j,k] for i in T) <= 1)"
   ]
  },
  {
   "cell_type": "code",
   "execution_count": 8,
   "metadata": {
    "slideshow": {
     "slide_type": "subslide"
    }
   },
   "outputs": [],
   "source": [
    "# For each product (tool), the production should \n",
    "# be greater than or equal to the customer demand and the end inventory\n",
    "req = factory.addConstrs((\n",
    "    B[i] + L*(gp.quicksum(A[k]*(gp.quicksum(x[i,j,k] for j in R)) for k in K)) >=\n",
    "    D[i] + I[i] for i in T), name='req')"
   ]
  },
  {
   "cell_type": "code",
   "execution_count": 9,
   "metadata": {},
   "outputs": [],
   "source": [
    "# Changeover happens only when the tool on a carrier is different \n",
    "# on a timeslot than the prior timeslot\n",
    "for j in R:\n",
    "    for k in K:\n",
    "        # The last one will always be 0\n",
    "        if(k!=K[-1]):\n",
    "            for i in T:\n",
    "                # it will be set to 0 if both of them is 0 or 1, so 0-0=0 and 1-1=0\n",
    "                factory.addConstr((y[j,k]==0) >> (x[i,j,k]-x[i,j,K[K.index(k)+1]]==0))\n",
    "                \n",
    "                # it will be set to 1 if either of them is 0 or 1, so 0+1=1\n",
    "                factory.addConstr((y[j,k]==1) >> (x[i,j,k]+x[i,j,K[K.index(k)+1]]==1))\n"
   ]
  },
  {
   "cell_type": "code",
   "execution_count": 10,
   "metadata": {
    "slideshow": {
     "slide_type": "skip"
    }
   },
   "outputs": [],
   "source": [
    "# Define the objectives. Both are to minimize\n",
    "#factory.modelSense = GRB.OPTIMIZE\n",
    "\n",
    "# Minimize the production to match demand plus on hand inventory\n",
    "#obj1 = gp.quicksum(B[i] + L*(gp.quicksum(A[k]*(gp.quicksum(x[i,j,k] for j in R)) for k in K)) - \n",
    "#                   (D[i] + I[i]) for i in T)\n",
    "\n",
    "# Objective 2 is to reduce the number of change overs\n",
    "#obj2 = gp.quicksum(y[j,k] for j in R for k in K)\n",
    "\n",
    "#factory.setObjective(obj1, GRB.MINIMIZE)\n",
    "#, index=0, priority=1, name='obj1')\n",
    "#factory.setObjectiveN(obj2, index=1, priority=2, name='obj2')"
   ]
  },
  {
   "cell_type": "code",
   "execution_count": 11,
   "metadata": {},
   "outputs": [],
   "source": [
    "# Objective is to minimize the inventory for each of the tool\n",
    "factory.modelSense = GRB.MINIMIZE\n",
    "\n",
    "idx = 0\n",
    "for i in T:\n",
    "    obj = B[i] + L*(gp.quicksum(A[k]*(gp.quicksum(x[i,j,k] for j in R)) for k in K)) - (D[i] + I[i])\n",
    "    factory.setObjectiveN(obj, index=idx, priority=1)\n",
    "    idx += 1\n",
    "    \n",
    "# Add objective to minimize Changeovers\n",
    "obj2 = gp.quicksum(y[j,k] for j in R for k in K)\n",
    "factory.setObjectiveN(obj2, idx, priority=2)"
   ]
  },
  {
   "cell_type": "code",
   "execution_count": 12,
   "metadata": {
    "slideshow": {
     "slide_type": "subslide"
    }
   },
   "outputs": [],
   "source": [
    "factory.write('model.lp')"
   ]
  },
  {
   "cell_type": "code",
   "execution_count": 13,
   "metadata": {
    "slideshow": {
     "slide_type": "subslide"
    }
   },
   "outputs": [
    {
     "name": "stdout",
     "output_type": "stream",
     "text": [
      "Gurobi Optimizer version 9.0.1 build v9.0.1rc0 (mac64)\n",
      "Optimize a model with 507 rows, 1260 columns and 2835 nonzeros\n",
      "Model fingerprint: 0x95ee4dc9\n",
      "Model has 1860 general constraints\n",
      "Variable types: 0 continuous, 1260 integer (1260 binary)\n",
      "Coefficient statistics:\n",
      "  Matrix range     [1e+00, 1e+02]\n",
      "  Objective range  [1e+00, 1e+02]\n",
      "  Bounds range     [1e+00, 1e+00]\n",
      "  RHS range        [1e+00, 6e+03]\n",
      "\n",
      "---------------------------------------------------------------------------\n",
      "Multi-objectives: starting optimization with 4 objectives (2 combined) ...\n",
      "---------------------------------------------------------------------------\n",
      "\n",
      "Multi-objectives: applying initial presolve ...\n",
      "---------------------------------------------------------------------------\n",
      "\n",
      "Presolve added 5391 rows and 1860 columns\n",
      "Presolve time: 0.08s\n",
      "Presolved: 5898 rows and 3120 columns\n",
      "---------------------------------------------------------------------------\n",
      "\n",
      "Multi-objectives: optimize objective 1 () ...\n",
      "---------------------------------------------------------------------------\n",
      "\n",
      "Presolve removed 1860 rows and 1865 columns\n",
      "Presolve time: 0.03s\n",
      "Presolved: 4038 rows, 1255 columns, 13050 nonzeros\n",
      "Variable types: 0 continuous, 1255 integer (1255 binary)\n",
      "Found heuristic solution: objective 0.0000000\n",
      "\n",
      "Explored 0 nodes (0 simplex iterations) in 0.18 seconds\n",
      "Thread count was 4 (of 4 available processors)\n",
      "\n",
      "Solution count 1: 0 \n",
      "\n",
      "Optimal solution found (tolerance 1.00e-04)\n",
      "Best objective 0.000000000000e+00, best bound 0.000000000000e+00, gap 0.0000%\n",
      "---------------------------------------------------------------------------\n",
      "\n",
      "Multi-objectives: optimize objective 2 (weighted) ...\n",
      "---------------------------------------------------------------------------\n",
      "\n",
      "\n",
      "Loaded user MIP start with objective 5284\n",
      "\n",
      "Presolve removed 5891 rows and 3105 columns\n",
      "Presolve time: 0.02s\n",
      "Presolved: 8 rows, 15 columns, 30 nonzeros\n",
      "Variable types: 0 continuous, 15 integer (15 binary)\n",
      "\n",
      "Root relaxation: cutoff, 2 iterations, 0.00 seconds\n",
      "\n",
      "    Nodes    |    Current Node    |     Objective Bounds      |     Work\n",
      " Expl Unexpl |  Obj  Depth IntInf | Incumbent    BestBd   Gap | It/Node Time\n",
      "\n",
      "     0     0     cutoff    0      5284.00000 5284.00000  0.00%     -    0s\n",
      "\n",
      "Explored 0 nodes (2 simplex iterations) in 0.33 seconds\n",
      "Thread count was 4 (of 4 available processors)\n",
      "\n",
      "Solution count 1: 5284 \n",
      "\n",
      "Optimal solution found (tolerance 1.00e-04)\n",
      "Best objective 5.284000000000e+03, best bound 5.284000000000e+03, gap 0.0000%\n",
      "\n",
      "---------------------------------------------------------------------------\n",
      "Multi-objectives: solved in 0.35 seconds, solution count 1\n",
      "\n"
     ]
    }
   ],
   "source": [
    "factory.optimize()"
   ]
  },
  {
   "cell_type": "code",
   "execution_count": 14,
   "metadata": {
    "slideshow": {
     "slide_type": "subslide"
    }
   },
   "outputs": [
    {
     "data": {
      "text/html": [
       "<div>\n",
       "<style scoped>\n",
       "    .dataframe tbody tr th:only-of-type {\n",
       "        vertical-align: middle;\n",
       "    }\n",
       "\n",
       "    .dataframe tbody tr th {\n",
       "        vertical-align: top;\n",
       "    }\n",
       "\n",
       "    .dataframe thead th {\n",
       "        text-align: right;\n",
       "    }\n",
       "</style>\n",
       "<table border=\"1\" class=\"dataframe\">\n",
       "  <thead>\n",
       "    <tr style=\"text-align: right;\">\n",
       "      <th></th>\n",
       "      <th>C1</th>\n",
       "      <th>C2</th>\n",
       "      <th>C3</th>\n",
       "      <th>C4</th>\n",
       "      <th>C5</th>\n",
       "    </tr>\n",
       "  </thead>\n",
       "  <tbody>\n",
       "    <tr>\n",
       "      <th>D1S1P1</th>\n",
       "      <td>Tool3</td>\n",
       "      <td>Tool1</td>\n",
       "      <td>0.0</td>\n",
       "      <td>0.0</td>\n",
       "      <td>Tool2</td>\n",
       "    </tr>\n",
       "    <tr>\n",
       "      <th>D1S1P2</th>\n",
       "      <td>Tool3</td>\n",
       "      <td>Tool1</td>\n",
       "      <td>0.0</td>\n",
       "      <td>0.0</td>\n",
       "      <td>Tool2</td>\n",
       "    </tr>\n",
       "    <tr>\n",
       "      <th>D1S1P3</th>\n",
       "      <td>Tool3</td>\n",
       "      <td>Tool1</td>\n",
       "      <td>0.0</td>\n",
       "      <td>0.0</td>\n",
       "      <td>Tool2</td>\n",
       "    </tr>\n",
       "    <tr>\n",
       "      <th>D1S2P1</th>\n",
       "      <td>Tool3</td>\n",
       "      <td>Tool1</td>\n",
       "      <td>0.0</td>\n",
       "      <td>0.0</td>\n",
       "      <td>Tool2</td>\n",
       "    </tr>\n",
       "    <tr>\n",
       "      <th>D1S2P2</th>\n",
       "      <td>Tool3</td>\n",
       "      <td>Tool1</td>\n",
       "      <td>0.0</td>\n",
       "      <td>0.0</td>\n",
       "      <td>Tool2</td>\n",
       "    </tr>\n",
       "    <tr>\n",
       "      <th>D1S2P3</th>\n",
       "      <td>Tool3</td>\n",
       "      <td>Tool1</td>\n",
       "      <td>0.0</td>\n",
       "      <td>0.0</td>\n",
       "      <td>Tool2</td>\n",
       "    </tr>\n",
       "    <tr>\n",
       "      <th>D1S3P1</th>\n",
       "      <td>Tool3</td>\n",
       "      <td>Tool1</td>\n",
       "      <td>0.0</td>\n",
       "      <td>0.0</td>\n",
       "      <td>Tool2</td>\n",
       "    </tr>\n",
       "    <tr>\n",
       "      <th>D1S3P2</th>\n",
       "      <td>Tool3</td>\n",
       "      <td>Tool1</td>\n",
       "      <td>0.0</td>\n",
       "      <td>0.0</td>\n",
       "      <td>Tool2</td>\n",
       "    </tr>\n",
       "    <tr>\n",
       "      <th>D1S3P3</th>\n",
       "      <td>Tool3</td>\n",
       "      <td>Tool1</td>\n",
       "      <td>0.0</td>\n",
       "      <td>0.0</td>\n",
       "      <td>Tool2</td>\n",
       "    </tr>\n",
       "    <tr>\n",
       "      <th>D2S1P1</th>\n",
       "      <td>Tool3</td>\n",
       "      <td>Tool1</td>\n",
       "      <td>0.0</td>\n",
       "      <td>0.0</td>\n",
       "      <td>Tool2</td>\n",
       "    </tr>\n",
       "  </tbody>\n",
       "</table>\n",
       "</div>"
      ],
      "text/plain": [
       "           C1     C2   C3   C4     C5\n",
       "D1S1P1  Tool3  Tool1  0.0  0.0  Tool2\n",
       "D1S1P2  Tool3  Tool1  0.0  0.0  Tool2\n",
       "D1S1P3  Tool3  Tool1  0.0  0.0  Tool2\n",
       "D1S2P1  Tool3  Tool1  0.0  0.0  Tool2\n",
       "D1S2P2  Tool3  Tool1  0.0  0.0  Tool2\n",
       "D1S2P3  Tool3  Tool1  0.0  0.0  Tool2\n",
       "D1S3P1  Tool3  Tool1  0.0  0.0  Tool2\n",
       "D1S3P2  Tool3  Tool1  0.0  0.0  Tool2\n",
       "D1S3P3  Tool3  Tool1  0.0  0.0  Tool2\n",
       "D2S1P1  Tool3  Tool1  0.0  0.0  Tool2"
      ]
     },
     "execution_count": 14,
     "metadata": {},
     "output_type": "execute_result"
    }
   ],
   "source": [
    "# Write the plan to a dataframe\n",
    "rows = K.copy()\n",
    "columns = R.copy()\n",
    "prod_plan = pd.DataFrame(columns=columns, index=rows, data=0.0)\n",
    "m = 1\n",
    "for i, j, k in x.keys():\n",
    "    if(x[i, j, k].x==1):\n",
    "        prod_plan.loc[k, j]=i\n",
    "prod_plan.head(10)"
   ]
  },
  {
   "cell_type": "code",
   "execution_count": 15,
   "metadata": {},
   "outputs": [
    {
     "name": "stdout",
     "output_type": "stream",
     "text": [
      "Tool  ->\tProduced Qty\tCust Demand\tDifference\n",
      "Tool1 ->\t 6468.0 \t 5000 \t\t 1468.0\n",
      "Tool2 ->\t 6468.0 \t 6000 \t\t 468.0\n",
      "Tool3 ->\t 6468.0 \t 3000 \t\t 3468.0\n"
     ]
    }
   ],
   "source": [
    "# What quantities of each Tool is produced\n",
    "rows = K.copy()\n",
    "columns = R.copy()\n",
    "produced_qty = {'Tool1': 0, 'Tool2': 0, 'Tool3': 0}\n",
    "for i, j, k in x.keys():\n",
    "    if(x[i, j, k].x==1):\n",
    "        produced_qty[i] += L*A[k]\n",
    "\n",
    "print('Tool  ->\\tProduced Qty\\tCust Demand\\tDifference')\n",
    "for pq in produced_qty:\n",
    "    print(pq, '->\\t', produced_qty[pq], '\\t', D[pq], '\\t\\t', produced_qty[pq]-D[pq])"
   ]
  },
  {
   "cell_type": "code",
   "execution_count": 16,
   "metadata": {},
   "outputs": [
    {
     "data": {
      "text/html": [
       "<div>\n",
       "<style scoped>\n",
       "    .dataframe tbody tr th:only-of-type {\n",
       "        vertical-align: middle;\n",
       "    }\n",
       "\n",
       "    .dataframe tbody tr th {\n",
       "        vertical-align: top;\n",
       "    }\n",
       "\n",
       "    .dataframe thead th {\n",
       "        text-align: right;\n",
       "    }\n",
       "</style>\n",
       "<table border=\"1\" class=\"dataframe\">\n",
       "  <thead>\n",
       "    <tr style=\"text-align: right;\">\n",
       "      <th></th>\n",
       "      <th>C1</th>\n",
       "      <th>C2</th>\n",
       "      <th>C3</th>\n",
       "      <th>C4</th>\n",
       "      <th>C5</th>\n",
       "    </tr>\n",
       "  </thead>\n",
       "  <tbody>\n",
       "    <tr>\n",
       "      <th>D1S1P1</th>\n",
       "      <td>0.0</td>\n",
       "      <td>0.0</td>\n",
       "      <td>0.0</td>\n",
       "      <td>0.0</td>\n",
       "      <td>0.0</td>\n",
       "    </tr>\n",
       "    <tr>\n",
       "      <th>D1S1P2</th>\n",
       "      <td>0.0</td>\n",
       "      <td>0.0</td>\n",
       "      <td>0.0</td>\n",
       "      <td>0.0</td>\n",
       "      <td>0.0</td>\n",
       "    </tr>\n",
       "    <tr>\n",
       "      <th>D1S1P3</th>\n",
       "      <td>0.0</td>\n",
       "      <td>0.0</td>\n",
       "      <td>0.0</td>\n",
       "      <td>0.0</td>\n",
       "      <td>0.0</td>\n",
       "    </tr>\n",
       "    <tr>\n",
       "      <th>D1S2P1</th>\n",
       "      <td>0.0</td>\n",
       "      <td>0.0</td>\n",
       "      <td>0.0</td>\n",
       "      <td>0.0</td>\n",
       "      <td>0.0</td>\n",
       "    </tr>\n",
       "    <tr>\n",
       "      <th>D1S2P2</th>\n",
       "      <td>0.0</td>\n",
       "      <td>0.0</td>\n",
       "      <td>0.0</td>\n",
       "      <td>0.0</td>\n",
       "      <td>0.0</td>\n",
       "    </tr>\n",
       "    <tr>\n",
       "      <th>D1S2P3</th>\n",
       "      <td>0.0</td>\n",
       "      <td>0.0</td>\n",
       "      <td>0.0</td>\n",
       "      <td>0.0</td>\n",
       "      <td>0.0</td>\n",
       "    </tr>\n",
       "    <tr>\n",
       "      <th>D1S3P1</th>\n",
       "      <td>0.0</td>\n",
       "      <td>0.0</td>\n",
       "      <td>0.0</td>\n",
       "      <td>0.0</td>\n",
       "      <td>0.0</td>\n",
       "    </tr>\n",
       "    <tr>\n",
       "      <th>D1S3P2</th>\n",
       "      <td>0.0</td>\n",
       "      <td>0.0</td>\n",
       "      <td>0.0</td>\n",
       "      <td>0.0</td>\n",
       "      <td>0.0</td>\n",
       "    </tr>\n",
       "    <tr>\n",
       "      <th>D1S3P3</th>\n",
       "      <td>0.0</td>\n",
       "      <td>0.0</td>\n",
       "      <td>0.0</td>\n",
       "      <td>0.0</td>\n",
       "      <td>0.0</td>\n",
       "    </tr>\n",
       "    <tr>\n",
       "      <th>D2S1P1</th>\n",
       "      <td>0.0</td>\n",
       "      <td>0.0</td>\n",
       "      <td>0.0</td>\n",
       "      <td>0.0</td>\n",
       "      <td>0.0</td>\n",
       "    </tr>\n",
       "  </tbody>\n",
       "</table>\n",
       "</div>"
      ],
      "text/plain": [
       "         C1   C2   C3   C4   C5\n",
       "D1S1P1  0.0  0.0  0.0  0.0  0.0\n",
       "D1S1P2  0.0  0.0  0.0  0.0  0.0\n",
       "D1S1P3  0.0  0.0  0.0  0.0  0.0\n",
       "D1S2P1  0.0  0.0  0.0  0.0  0.0\n",
       "D1S2P2  0.0  0.0  0.0  0.0  0.0\n",
       "D1S2P3  0.0  0.0  0.0  0.0  0.0\n",
       "D1S3P1  0.0  0.0  0.0  0.0  0.0\n",
       "D1S3P2  0.0  0.0  0.0  0.0  0.0\n",
       "D1S3P3  0.0  0.0  0.0  0.0  0.0\n",
       "D2S1P1  0.0  0.0  0.0  0.0  0.0"
      ]
     },
     "execution_count": 16,
     "metadata": {},
     "output_type": "execute_result"
    }
   ],
   "source": [
    "# Write the plan to a dataframe\n",
    "rows = K.copy()\n",
    "columns = R.copy()\n",
    "change_plan = pd.DataFrame(columns=columns, index=rows, data=0.0)\n",
    "\n",
    "for j, k in y.keys():\n",
    "    change_plan.loc[k, j]=y[j,k].x\n",
    "change_plan.head(10)"
   ]
  },
  {
   "cell_type": "code",
   "execution_count": 17,
   "metadata": {
    "slideshow": {
     "slide_type": "subslide"
    }
   },
   "outputs": [],
   "source": [
    "# Export the plan to a csv file\n",
    "prod_plan.to_csv('plan.csv')\n",
    "change_plan.to_csv('change.csv')"
   ]
  },
  {
   "cell_type": "code",
   "execution_count": 18,
   "metadata": {
    "slideshow": {
     "slide_type": "fragment"
    }
   },
   "outputs": [],
   "source": [
    "# Export the plan to a .sol file\n",
    "factory.write('b.sol')"
   ]
  },
  {
   "cell_type": "markdown",
   "metadata": {
    "slideshow": {
     "slide_type": "slide"
    }
   },
   "source": [
    "Thank you"
   ]
  }
 ],
 "metadata": {
  "celltoolbar": "Slideshow",
  "kernelspec": {
   "display_name": "Python 3",
   "language": "python",
   "name": "python3"
  },
  "language_info": {
   "codemirror_mode": {
    "name": "ipython",
    "version": 3
   },
   "file_extension": ".py",
   "mimetype": "text/x-python",
   "name": "python",
   "nbconvert_exporter": "python",
   "pygments_lexer": "ipython3",
   "version": "3.7.6"
  }
 },
 "nbformat": 4,
 "nbformat_minor": 4
}
